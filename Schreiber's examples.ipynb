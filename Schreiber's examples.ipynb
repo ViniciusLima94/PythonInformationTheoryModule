{
 "cells": [
  {
   "cell_type": "markdown",
   "metadata": {},
   "source": [
    "## Using InfoPy to reproduce Schreiber's paper examples (UNDER CONSTRUCTION)"
   ]
  },
  {
   "cell_type": "code",
   "execution_count": 184,
   "metadata": {},
   "outputs": [],
   "source": [
    "import numpy             as np \n",
    "import matplotlib.pyplot as plt \n",
    "import pandas            as pd\n",
    "import multiprocessing\n",
    "from   joblib            import Parallel, delayed"
   ]
  },
  {
   "cell_type": "code",
   "execution_count": 185,
   "metadata": {},
   "outputs": [],
   "source": [
    "M         = 100     # Number of elements in the map\n",
    "Transient = 100000  # Transient time\n",
    "T         = 100000  # Simulation time\n",
    "    \n",
    "def tentMap(x_in):\n",
    "    ###############################################################################\n",
    "    # Description: Equations for the ulam map. Return the next value of the map\n",
    "    # given the previous one.\n",
    "    # > Inputs: \n",
    "    # x_in: Input or previous value of the map\n",
    "    # > Outputs:\n",
    "    # Next value of the map.\n",
    "    ###############################################################################\n",
    "    return x_in * 2.0 * (x_in < 0.5) + (2 - 2 * x_in) * (x_in >= 0.5)\n",
    "    \n",
    "def simulateMap(M, Transient, T, coupling = 0.05):\n",
    "    ###############################################################################\n",
    "    # Description: Simulate tent.\n",
    "    # > Inputs:\n",
    "    # f_map: Map function\n",
    "    # coupling: Counpling between the map elements\n",
    "    # M: Number of elements in the map\n",
    "    # Transiente: Transient time\n",
    "    # T: Simulation time\n",
    "    # > Output\n",
    "    # binMapValues: The binary output of each map element\n",
    "    ###############################################################################\n",
    "        \n",
    "    # Initializing map values. For the tent map it's initialized with random uniform values.\n",
    "    values = np.random.rand(M)  \n",
    "\n",
    "    # Run transient\n",
    "    for t in range(1, Transient):\n",
    "        for i in range(len(values)):\n",
    "            if i == 0:\n",
    "                values[i] = tentMap( coupling * values[-1] + (1 - coupling) * values[i])\n",
    "            else:\n",
    "                values[i] = tentMap( coupling * values[i-1] + (1 - coupling) * values[i])\n",
    "\n",
    "\n",
    "    mapValues       = np.zeros([T, M])\n",
    "    mapValues[0, :] = values\n",
    "\n",
    "    # Run the map simulation\n",
    "    for t in range(1, T):\n",
    "        for m in range(0, M):\n",
    "            if m == 0:\n",
    "                mapValues[t, m] = tentMap( coupling * mapValues[t-1, -1] + (1 - coupling) * mapValues[t-1, m] )\n",
    "            else:\n",
    "                mapValues[t, m] = tentMap( coupling * mapValues[t-1, m-1] + (1 - coupling) * mapValues[t-1, m] )\n",
    "\n",
    "    binMapValues = (mapValues >= 0.5).astype(int)\n",
    "    return binMapValues\n",
    "    \n",
    "def simulateMapCouplings(M, Transient, T, couplings = np.arange(0, 0.052, 0.002), n_jobs = 1):\n",
    "    ###############################################################################\n",
    "    # Description: This function allows to run simulateMap in parallel.\n",
    "    # > Inputs:\n",
    "    # f_map: Map function\n",
    "    # M: Number of elements in the map\n",
    "    # Transiente: Transient time\n",
    "    # T: Simulation time\n",
    "    # couplings: A numpy array with coupling values\n",
    "    # n_jobs: Number of jobs to use\n",
    "    # > Output\n",
    "    # binMapValues: The binary output of each map element for each coupling\n",
    "    ###############################################################################\n",
    "    binMapValues = Parallel(n_jobs=n_jobs, backend='loky', max_nbytes=1e6)(\n",
    "            delayed(simulateMap)(M, Transient, T, c) for c in couplings\n",
    "            )\n",
    "    \n",
    "    return np.squeeze(binMapValues)"
   ]
  },
  {
   "cell_type": "code",
   "execution_count": 3,
   "metadata": {},
   "outputs": [],
   "source": [
    "def tentMapTE(couplings = np.arange(0, 0.052, 0.002)):\n",
    "    ###############################################################################\n",
    "    # Description: Returns analytical values of TE for the tent map\n",
    "    # > Inputs:\n",
    "    # couplings: A numpy array with coupling values\n",
    "    # n_jobs: Number of jobs to use\n",
    "    # > Output\n",
    "    # Transfer entropy as a funtion of the coupling for the tent map\n",
    "    ###############################################################################\n",
    "    return (0.77**2)*(couplings**2)/np.log(2)"
   ]
  },
  {
   "cell_type": "code",
   "execution_count": 4,
   "metadata": {},
   "outputs": [],
   "source": [
    "couplings    = np.arange(0, 0.052, 0.002)\n",
    "binMapValues = simulateMapCouplings(M, 100, T, couplings, n_jobs = -1)"
   ]
  },
  {
   "cell_type": "code",
   "execution_count": 2,
   "metadata": {},
   "outputs": [],
   "source": [
    "from infoPy.discrete import BinTransferEntropy"
   ]
  },
  {
   "cell_type": "code",
   "execution_count": 3,
   "metadata": {},
   "outputs": [],
   "source": [
    "def pairTE(binMapValues, M, i):\n",
    "    if i == 0:\n",
    "        return BinTransferEntropy(binMapValues[:,M-1], binMapValues[:,0], lag = 0)\n",
    "    else:\n",
    "        return BinTransferEntropy(binMapValues[:,i-1], binMapValues[:,i], lag = 0)"
   ]
  },
  {
   "cell_type": "code",
   "execution_count": 4,
   "metadata": {},
   "outputs": [
    {
     "ename": "IndentationError",
     "evalue": "unexpected indent (<ipython-input-4-b4a513454bdf>, line 5)",
     "output_type": "error",
     "traceback": [
      "\u001b[0;36m  File \u001b[0;32m\"<ipython-input-4-b4a513454bdf>\"\u001b[0;36m, line \u001b[0;32m5\u001b[0m\n\u001b[0;31m    (delayed(pairTE)(binMapValues[i], M, m) for m in range(1, M)\u001b[0m\n\u001b[0m    ^\u001b[0m\n\u001b[0;31mIndentationError\u001b[0m\u001b[0;31m:\u001b[0m unexpected indent\n"
     ]
    }
   ],
   "source": [
    "TE = np.zeros([couplings.shape[0], M-1])\n",
    "\n",
    "for i in range( couplings.shape[0] ):\n",
    "    TE[i] = Parallel(n_jobs=-1, backend='loky', max_nbytes=1e6)\n",
    "                    (delayed(pairTE)(binMapValues[i], M, m) for m in range(1, M)\n",
    "                    )"
   ]
  },
  {
   "cell_type": "code",
   "execution_count": null,
   "metadata": {},
   "outputs": [],
   "source": [
    "TE_tent = tentMapTE(couplings)"
   ]
  },
  {
   "cell_type": "code",
   "execution_count": null,
   "metadata": {},
   "outputs": [],
   "source": [
    "plt.figure()\n",
    "plt.plot(couplings, TE_tent, 'k--', lw=2)\n",
    "plt.errorbar(couplings, TE.mean(axis=1), TE.std(axis=1) / np.sqrt(M), lw=2)\n",
    "plt.legend(['TE analytical', 'TE estimated'])\n",
    "plt.title('Transfer Entropy for the Tent Map')\n",
    "plt.ylabel('TE [bits]')\n",
    "plt.xlabel('Counpling')"
   ]
  },
  {
   "cell_type": "code",
   "execution_count": 2,
   "metadata": {},
   "outputs": [],
   "source": [
    "from infoPy.continuous.kernel import *"
   ]
  },
  {
   "cell_type": "code",
   "execution_count": 175,
   "metadata": {},
   "outputs": [],
   "source": [
    "def KernelDensityEstimator(x, bandwidth, kernel = 'tophat', metric = 'euclidean', algorithm = 'auto'):\n",
    "\t#####################################################################################################\n",
    "\t# Description: Uses kernel estimaton to compute probabiliry distribution\n",
    "\t# > Inputs:\n",
    "\t# x: Data matrix must have size [N_variables, N_observations].\n",
    "\t# bandwidth: Kernel bandwidth\n",
    "\t# kernel: Kernel shape [‘gaussian’|’tophat’|’epanechnikov’|’exponential’|’linear’|’cosine’]\n",
    "\t# metric: Distance metric to use [‘euclidean’|‘manhattan’|‘chebyshev’|‘minkowski’|]\n",
    "\t# for more see: https://scikit-learn.org/stable/modules/generated/sklearn.neighbors.DistanceMetric.html\n",
    "\t# > Outputs:\n",
    "\t# Probability distribution of the data obtained with kernel density estimation\n",
    "\t#####################################################################################################\n",
    "\tfrom sklearn.neighbors import KernelDensity\n",
    "\n",
    "\t# Checking data shape\n",
    "\tif x.shape[0] >= 1:\n",
    "\t\tx = x.T\n",
    "\tif len(x.shape) == 1:\n",
    "\t\tx = x[np.newaxis, :].T\n",
    "\n",
    "\td = x.shape[0]\n",
    "\n",
    "\tkde = KernelDensity(bandwidth=bandwidth, kernel=kernel, metric=metric, algorithm=algorithm, leaf_size=3)\n",
    "\n",
    "\tif d == 1:\n",
    "\t\tkde.fit(x)\n",
    "\t\tp = kde.score_samples(x)\n",
    "\n",
    "\telse:\n",
    "\t\tkde.fit(x)\n",
    "\t\tp = kde.score_samples(x)\n",
    "\t\n",
    "\treturn np.exp(p)"
   ]
  },
  {
   "cell_type": "code",
   "execution_count": 176,
   "metadata": {},
   "outputs": [],
   "source": [
    "c = np.arange(0, 1.02, 0.02) "
   ]
  },
  {
   "cell_type": "code",
   "execution_count": 177,
   "metadata": {},
   "outputs": [],
   "source": [
    "def TEulam(i, bw, lag, metric, kernel, algorithm): \n",
    "    #data=np.loadtxt('data_schreiber/ulam/ulam_'+str(i)+'.dat', delimiter=',')\n",
    "    #x = data[:,0]#(data[:,0] - data[:,0].mean())/data[:,0].std()\n",
    "    #y = data[:,1]#(data[:,1] - data[:,1].mean())/data[:,1].std()\n",
    "    x, y = simulate_map(c[i])\n",
    "    return KernelEstimatorTransferEntropy(x, y, bandwidth =bw, \n",
    "                                          metric=metric, lag=lag, kernel=kernel, algorithm=algorithm), \\\n",
    "           KernelEstimatorTransferEntropy(y, x, bandwidth = bw, \n",
    "                                          metric=metric, lag=lag, kernel=kernel, algorithm=algorithm)"
   ]
  },
  {
   "cell_type": "code",
   "execution_count": 181,
   "metadata": {},
   "outputs": [],
   "source": [
    "TE = Parallel(n_jobs=-1, backend='loky', max_nbytes=1e6)(delayed(TEulam)\n",
    "             (i, .2, 0, 'chebyshev', 'gaussian', 'auto')   \n",
    "             for i in range(0, 51)) "
   ]
  },
  {
   "cell_type": "code",
   "execution_count": 182,
   "metadata": {},
   "outputs": [],
   "source": [
    "jidt = np.loadtxt('data_schreiber/ulam/jidt_ulam.txt', delimiter=',')"
   ]
  },
  {
   "cell_type": "code",
   "execution_count": 183,
   "metadata": {},
   "outputs": [
    {
     "data": {
      "text/plain": [
       "[<matplotlib.lines.Line2D at 0x7fbe1992b278>]"
      ]
     },
     "execution_count": 183,
     "metadata": {},
     "output_type": "execute_result"
    },
    {
     "data": {
      "image/png": "[encoded data removed]",
      "text/plain": [
       "<Figure size 432x288 with 1 Axes>"
      ]
     },
     "metadata": {
      "needs_background": "light"
     },
     "output_type": "display_data"
    }
   ],
   "source": [
    "TE = np.squeeze(TE)\n",
    "\n",
    "plt.plot(c,TE[:,0], 'b')\n",
    "plt.plot(c,TE[:,1], 'g')\n",
    "#plt.plot(c,jidt[:,1], 'b--')\n",
    "#plt.plot(c,jidt[:,2], 'g--')"
   ]
  },
  {
   "cell_type": "code",
   "execution_count": 146,
   "metadata": {},
   "outputs": [],
   "source": [
    "data=np.loadtxt('data_schreiber/ulam/ulam_'+str(1)+'.dat', delimiter=',') \n",
    "x = (data[:,0] - data[:,0].mean())/data[:,0].std()\n",
    "y = (data[:,1] - data[:,1].mean())/data[:,1].std()"
   ]
  },
  {
   "cell_type": "code",
   "execution_count": 17,
   "metadata": {},
   "outputs": [
    {
     "data": {
      "text/plain": [
       "0.9999999999999998"
      ]
     },
     "execution_count": 17,
     "metadata": {},
     "output_type": "execute_result"
    }
   ],
   "source": [
    "x.std()"
   ]
  },
  {
   "cell_type": "code",
   "execution_count": 33,
   "metadata": {},
   "outputs": [],
   "source": []
  },
  {
   "cell_type": "code",
   "execution_count": 168,
   "metadata": {},
   "outputs": [],
   "source": [
    "def ulamMap(xIn):\n",
    "    return 2 - xIn**2\n",
    "\n",
    "def simulate_map(coupling):\n",
    "    M = 100\n",
    "    transientLength = 100\n",
    "    iterates = 5000\n",
    "\n",
    "    #Initialise first row randomly (values should be in range [-2,2])\n",
    "    transientMapValues = -2 + np.random.rand(1,M) * 4\n",
    "    # Run transients - no need to keep the transient values\n",
    "    for t in range(1, transientLength):\n",
    "        transientMapValues = ulamMap(coupling * np.hstack( [transientMapValues[0,M-1], transientMapValues[0,0:M-1]] ) + \\\n",
    "                                     (1 - coupling) * transientMapValues)\n",
    "\n",
    "    #Run iterates - now keep the iterated map values\n",
    "    mapValues = np.zeros([iterates, M])\n",
    "    mapValues[0,:] = transientMapValues\n",
    "    for t in range(1, iterates):\n",
    "        mapValues[t, :] = ulamMap(coupling * np.hstack( [mapValues[t-1,M-1], mapValues[t-1,0:M-1]] ) \\\n",
    "                                  + (1 - coupling) * mapValues[t-1,:])\n",
    "\n",
    "    #Take only the first two columns, as Schreiber does\n",
    "    x1 = mapValues[:,0]\n",
    "    x2 = mapValues[:,1]\n",
    "    return x1, x2"
   ]
  },
  {
   "cell_type": "code",
   "execution_count": 63,
   "metadata": {},
   "outputs": [
    {
     "data": {
      "text/plain": [
       "array([ 1.59149856, -0.36063599,  1.88536519, ..., -0.14170796,\n",
       "        1.98827976, -1.77171786])"
      ]
     },
     "execution_count": 63,
     "metadata": {},
     "output_type": "execute_result"
    }
   ],
   "source": [
    "x1"
   ]
  },
  {
   "cell_type": "code",
   "execution_count": 64,
   "metadata": {},
   "outputs": [
    {
     "data": {
      "text/plain": [
       "array([-0.71439733,  1.55340262, -0.29559422, ...,  1.05203056,\n",
       "        0.94289567,  1.0710831 ])"
      ]
     },
     "execution_count": 64,
     "metadata": {},
     "output_type": "execute_result"
    }
   ],
   "source": [
    "x2"
   ]
  },
  {
   "cell_type": "markdown",
   "metadata": {},
   "source": [
    "M"
   ]
  },
  {
   "cell_type": "code",
   "execution_count": 44,
   "metadata": {},
   "outputs": [
    {
     "ename": "IndexError",
     "evalue": "index 100 is out of bounds for axis 1 with size 100",
     "output_type": "error",
     "traceback": [
      "\u001b[0;31m---------------------------------------------------------------------------\u001b[0m",
      "\u001b[0;31mIndexError\u001b[0m                                Traceback (most recent call last)",
      "\u001b[0;32m<ipython-input-44-560f1147889f>\u001b[0m in \u001b[0;36m<module>\u001b[0;34m\u001b[0m\n\u001b[0;32m----> 1\u001b[0;31m \u001b[0;34m[\u001b[0m \u001b[0mtransientMapValues\u001b[0m\u001b[0;34m[\u001b[0m\u001b[0;36m0\u001b[0m\u001b[0;34m,\u001b[0m\u001b[0mM\u001b[0m\u001b[0;34m]\u001b[0m \u001b[0;34m,\u001b[0m \u001b[0mtransientMapValues\u001b[0m\u001b[0;34m[\u001b[0m\u001b[0;36m0\u001b[0m\u001b[0;34m,\u001b[0m\u001b[0;36m0\u001b[0m\u001b[0;34m:\u001b[0m\u001b[0mM\u001b[0m\u001b[0;34m-\u001b[0m\u001b[0;36m1\u001b[0m\u001b[0;34m]\u001b[0m \u001b[0;34m]\u001b[0m\u001b[0;34m\u001b[0m\u001b[0;34m\u001b[0m\u001b[0m\n\u001b[0m",
      "\u001b[0;31mIndexError\u001b[0m: index 100 is out of bounds for axis 1 with size 100"
     ]
    }
   ],
   "source": [
    "[ transientMapValues[0,M] , transientMapValues[0,0:M-1] ]"
   ]
  },
  {
   "cell_type": "code",
   "execution_count": 55,
   "metadata": {},
   "outputs": [
    {
     "data": {
      "text/plain": [
       "array([ 1.87446549, -0.733071  , -1.1462699 , -0.16728044,  1.84729626,\n",
       "       -1.17656279,  0.73337695, -1.55254843, -0.3011345 ,  1.91142799,\n",
       "        1.94793726,  1.71052595, -1.06794712, -1.97017815, -1.70537487,\n",
       "       -0.54423783,  0.53114372, -1.12375619, -1.4675484 , -0.81085837,\n",
       "       -1.35134591, -0.49283988, -1.0367385 ,  1.67303513, -0.67852585,\n",
       "       -1.64860651, -0.70901163, -0.78379208, -0.39174614, -0.25476119,\n",
       "       -1.32787068,  0.65534016,  0.26490199, -0.22895275,  1.22955632,\n",
       "       -0.39363736,  1.08710379,  1.28874302,  1.65810061, -1.46102432,\n",
       "        0.91183765, -1.72219349, -1.38138445, -0.10381496,  0.93531047,\n",
       "        1.01536994, -0.14420009,  1.4231925 , -0.9995047 ,  1.26692886,\n",
       "       -1.93169279,  1.18633021, -1.69930422, -1.8722241 ,  0.71127928,\n",
       "       -1.45664377, -1.55174576, -0.07559735, -0.17659996,  0.84561492,\n",
       "       -0.11067859, -0.01713984, -0.89615096,  1.12501751,  1.97544248,\n",
       "        0.89922447,  1.99426818,  0.59020585,  0.03749976,  0.5240485 ,\n",
       "       -0.43828237, -0.30020195, -0.52862157,  0.76047552,  0.31267454,\n",
       "        1.24294778, -1.03916861,  1.84881924,  0.02440917, -1.2679115 ,\n",
       "        1.49348861, -0.81840091,  0.05190366, -1.37253957,  0.71647884,\n",
       "       -0.44527321,  1.83659192,  1.79461003,  1.41310265,  1.28873737,\n",
       "       -0.11924116, -1.10950921, -1.97445924, -1.53289832,  0.23265744,\n",
       "       -0.87781752,  1.67659027,  1.45807542,  0.38268013, -0.24357254])"
      ]
     },
     "execution_count": 55,
     "metadata": {},
     "output_type": "execute_result"
    }
   ],
   "source": []
  },
  {
   "cell_type": "code",
   "execution_count": 49,
   "metadata": {},
   "outputs": [
    {
     "data": {
      "text/plain": [
       "array([-0.733071  , -1.1462699 , -0.16728044,  1.84729626, -1.17656279,\n",
       "        0.73337695, -1.55254843, -0.3011345 ,  1.91142799,  1.94793726,\n",
       "        1.71052595, -1.06794712, -1.97017815, -1.70537487, -0.54423783,\n",
       "        0.53114372, -1.12375619, -1.4675484 , -0.81085837, -1.35134591,\n",
       "       -0.49283988, -1.0367385 ,  1.67303513, -0.67852585, -1.64860651,\n",
       "       -0.70901163, -0.78379208, -0.39174614, -0.25476119, -1.32787068,\n",
       "        0.65534016,  0.26490199, -0.22895275,  1.22955632, -0.39363736,\n",
       "        1.08710379,  1.28874302,  1.65810061, -1.46102432,  0.91183765,\n",
       "       -1.72219349, -1.38138445, -0.10381496,  0.93531047,  1.01536994,\n",
       "       -0.14420009,  1.4231925 , -0.9995047 ,  1.26692886, -1.93169279,\n",
       "        1.18633021, -1.69930422, -1.8722241 ,  0.71127928, -1.45664377,\n",
       "       -1.55174576, -0.07559735, -0.17659996,  0.84561492, -0.11067859,\n",
       "       -0.01713984, -0.89615096,  1.12501751,  1.97544248,  0.89922447,\n",
       "        1.99426818,  0.59020585,  0.03749976,  0.5240485 , -0.43828237,\n",
       "       -0.30020195, -0.52862157,  0.76047552,  0.31267454,  1.24294778,\n",
       "       -1.03916861,  1.84881924,  0.02440917, -1.2679115 ,  1.49348861,\n",
       "       -0.81840091,  0.05190366, -1.37253957,  0.71647884, -0.44527321,\n",
       "        1.83659192,  1.79461003,  1.41310265,  1.28873737, -0.11924116,\n",
       "       -1.10950921, -1.97445924, -1.53289832,  0.23265744, -0.87781752,\n",
       "        1.67659027,  1.45807542,  0.38268013, -0.24357254])"
      ]
     },
     "execution_count": 49,
     "metadata": {},
     "output_type": "execute_result"
    }
   ],
   "source": []
  },
  {
   "cell_type": "code",
   "execution_count": 97,
   "metadata": {},
   "outputs": [
    {
     "name": "stdout",
     "output_type": "stream",
     "text": [
      "Cov = 0.0\n",
      "Cov = 0.1\n",
      "Cov = 0.2\n",
      "Cov = 0.30000000000000004\n",
      "Cov = 0.4\n",
      "Cov = 0.5\n",
      "Cov = 0.6000000000000001\n",
      "Cov = 0.7000000000000001\n"
     ]
    },
    {
     "ename": "KeyboardInterrupt",
     "evalue": "",
     "output_type": "error",
     "traceback": [
      "\u001b[0;31m---------------------------------------------------------------------------\u001b[0m",
      "\u001b[0;31mKeyboardInterrupt\u001b[0m                         Traceback (most recent call last)",
      "\u001b[0;32m<ipython-input-97-6406ba389ffc>\u001b[0m in \u001b[0;36m<module>\u001b[0;34m\u001b[0m\n\u001b[1;32m     19\u001b[0m     \u001b[0mTEa\u001b[0m\u001b[0;34m.\u001b[0m\u001b[0mappend\u001b[0m\u001b[0;34m(\u001b[0m \u001b[0;34m-\u001b[0m\u001b[0;36m0.5\u001b[0m\u001b[0;34m*\u001b[0m\u001b[0mmath\u001b[0m\u001b[0;34m.\u001b[0m\u001b[0mlog\u001b[0m\u001b[0;34m(\u001b[0m\u001b[0;36m1\u001b[0m\u001b[0;34m-\u001b[0m\u001b[0mmath\u001b[0m\u001b[0;34m.\u001b[0m\u001b[0mpow\u001b[0m\u001b[0;34m(\u001b[0m\u001b[0mcorr_expected\u001b[0m\u001b[0;34m,\u001b[0m\u001b[0;36m2\u001b[0m\u001b[0;34m)\u001b[0m\u001b[0;34m)\u001b[0m\u001b[0;34m/\u001b[0m\u001b[0mmath\u001b[0m\u001b[0;34m.\u001b[0m\u001b[0mlog\u001b[0m\u001b[0;34m(\u001b[0m\u001b[0;36m2\u001b[0m\u001b[0;34m)\u001b[0m \u001b[0;34m)\u001b[0m\u001b[0;34m\u001b[0m\u001b[0;34m\u001b[0m\u001b[0m\n\u001b[1;32m     20\u001b[0m     TE.append( KernelEstimatorTransferEntropy(sourceArray, destArray, bandwidth = .5, \n\u001b[0;32m---> 21\u001b[0;31m                                               metric='euclidean', lag=0, kernel='tophat') )\n\u001b[0m",
      "\u001b[0;32m~/PythonInformationTheoryModule/infoPy/continuous/kernel.py\u001b[0m in \u001b[0;36mKernelEstimatorTransferEntropy\u001b[0;34m(x, y, bandwidth, kernel, metric, lag, algorithm)\u001b[0m\n\u001b[1;32m    128\u001b[0m \u001b[0;34m\u001b[0m\u001b[0m\n\u001b[1;32m    129\u001b[0m         \u001b[0;31m# Computing TE x->y\u001b[0m\u001b[0;34m\u001b[0m\u001b[0;34m\u001b[0m\u001b[0;34m\u001b[0m\u001b[0m\n\u001b[0;32m--> 130\u001b[0;31m         \u001b[0mTE_xy\u001b[0m \u001b[0;34m=\u001b[0m \u001b[0mKernelEstimatorConditionalMutualInformation\u001b[0m\u001b[0;34m(\u001b[0m\u001b[0my_c\u001b[0m\u001b[0;34m,\u001b[0m \u001b[0mx_l\u001b[0m\u001b[0;34m,\u001b[0m \u001b[0my_l\u001b[0m\u001b[0;34m,\u001b[0m \u001b[0mbandwidth\u001b[0m\u001b[0;34m,\u001b[0m \u001b[0mkernel\u001b[0m\u001b[0;34m,\u001b[0m \u001b[0mmetric\u001b[0m\u001b[0;34m,\u001b[0m \u001b[0malgorithm\u001b[0m\u001b[0;34m)\u001b[0m\u001b[0;34m\u001b[0m\u001b[0;34m\u001b[0m\u001b[0m\n\u001b[0m\u001b[1;32m    131\u001b[0m \u001b[0;34m\u001b[0m\u001b[0m\n\u001b[1;32m    132\u001b[0m         \u001b[0;32mreturn\u001b[0m \u001b[0mTE_xy\u001b[0m\u001b[0;34m\u001b[0m\u001b[0;34m\u001b[0m\u001b[0m\n",
      "\u001b[0;32m~/PythonInformationTheoryModule/infoPy/continuous/kernel.py\u001b[0m in \u001b[0;36mKernelEstimatorConditionalMutualInformation\u001b[0;34m(x, y, z, bandwidth, kernel, metric, algorithm)\u001b[0m\n\u001b[1;32m    101\u001b[0m         \u001b[0;31m#####################################################################################################\u001b[0m\u001b[0;34m\u001b[0m\u001b[0;34m\u001b[0m\u001b[0;34m\u001b[0m\u001b[0m\n\u001b[1;32m    102\u001b[0m \u001b[0;34m\u001b[0m\u001b[0m\n\u001b[0;32m--> 103\u001b[0;31m         \u001b[0mcMI\u001b[0m \u001b[0;34m=\u001b[0m \u001b[0mKernelEstimatorMutualInformation\u001b[0m\u001b[0;34m(\u001b[0m\u001b[0mnp\u001b[0m\u001b[0;34m.\u001b[0m\u001b[0mvstack\u001b[0m\u001b[0;34m(\u001b[0m\u001b[0;34m[\u001b[0m\u001b[0mx\u001b[0m\u001b[0;34m,\u001b[0m\u001b[0my\u001b[0m\u001b[0;34m,\u001b[0m\u001b[0mz\u001b[0m\u001b[0;34m]\u001b[0m\u001b[0;34m)\u001b[0m\u001b[0;34m,\u001b[0m \u001b[0mbandwidth\u001b[0m\u001b[0;34m,\u001b[0m \u001b[0mkernel\u001b[0m\u001b[0;34m,\u001b[0m \u001b[0mmetric\u001b[0m\u001b[0;34m,\u001b[0m \u001b[0malgorithm\u001b[0m\u001b[0;34m)\u001b[0m \u001b[0;34m-\u001b[0m\u001b[0;31m \u001b[0m\u001b[0;31m\\\u001b[0m\u001b[0;34m\u001b[0m\u001b[0;34m\u001b[0m\u001b[0m\n\u001b[0m\u001b[1;32m    104\u001b[0m                   \u001b[0mKernelEstimatorMutualInformation\u001b[0m\u001b[0;34m(\u001b[0m\u001b[0mnp\u001b[0m\u001b[0;34m.\u001b[0m\u001b[0mvstack\u001b[0m\u001b[0;34m(\u001b[0m\u001b[0;34m[\u001b[0m\u001b[0mx\u001b[0m\u001b[0;34m,\u001b[0m\u001b[0mz\u001b[0m\u001b[0;34m]\u001b[0m\u001b[0;34m)\u001b[0m\u001b[0;34m,\u001b[0m \u001b[0mbandwidth\u001b[0m\u001b[0;34m,\u001b[0m \u001b[0mkernel\u001b[0m\u001b[0;34m,\u001b[0m \u001b[0mmetric\u001b[0m\u001b[0;34m,\u001b[0m \u001b[0malgorithm\u001b[0m \u001b[0;34m)\u001b[0m\u001b[0;34m\u001b[0m\u001b[0;34m\u001b[0m\u001b[0m\n\u001b[1;32m    105\u001b[0m \u001b[0;34m\u001b[0m\u001b[0m\n",
      "\u001b[0;32m~/PythonInformationTheoryModule/infoPy/continuous/kernel.py\u001b[0m in \u001b[0;36mKernelEstimatorMutualInformation\u001b[0;34m(x, bandwidth, kernel, metric, algorithm)\u001b[0m\n\u001b[1;32m     51\u001b[0m         \u001b[0mH\u001b[0m \u001b[0;34m=\u001b[0m \u001b[0mnp\u001b[0m\u001b[0;34m.\u001b[0m\u001b[0mzeros\u001b[0m\u001b[0;34m(\u001b[0m\u001b[0mN_var\u001b[0m\u001b[0;34m)\u001b[0m\u001b[0;34m\u001b[0m\u001b[0;34m\u001b[0m\u001b[0m\n\u001b[1;32m     52\u001b[0m         \u001b[0;32mfor\u001b[0m \u001b[0mi\u001b[0m \u001b[0;32min\u001b[0m \u001b[0mrange\u001b[0m\u001b[0;34m(\u001b[0m\u001b[0mN_var\u001b[0m\u001b[0;34m)\u001b[0m\u001b[0;34m:\u001b[0m\u001b[0;34m\u001b[0m\u001b[0;34m\u001b[0m\u001b[0m\n\u001b[0;32m---> 53\u001b[0;31m                 \u001b[0mH\u001b[0m\u001b[0;34m[\u001b[0m\u001b[0mi\u001b[0m\u001b[0;34m]\u001b[0m \u001b[0;34m=\u001b[0m \u001b[0mKernelEstimatorEntropy\u001b[0m\u001b[0;34m(\u001b[0m\u001b[0mx\u001b[0m\u001b[0;34m[\u001b[0m\u001b[0mi\u001b[0m\u001b[0;34m]\u001b[0m\u001b[0;34m,\u001b[0m \u001b[0mbandwidth\u001b[0m\u001b[0;34m,\u001b[0m \u001b[0mkernel\u001b[0m\u001b[0;34m,\u001b[0m \u001b[0mmetric\u001b[0m\u001b[0;34m,\u001b[0m \u001b[0malgorithm\u001b[0m\u001b[0;34m)\u001b[0m\u001b[0;34m\u001b[0m\u001b[0;34m\u001b[0m\u001b[0m\n\u001b[0m\u001b[1;32m     54\u001b[0m \u001b[0;34m\u001b[0m\u001b[0m\n\u001b[1;32m     55\u001b[0m         \u001b[0;31m# Compute the joint entropy\u001b[0m\u001b[0;34m\u001b[0m\u001b[0;34m\u001b[0m\u001b[0;34m\u001b[0m\u001b[0m\n",
      "\u001b[0;32m~/PythonInformationTheoryModule/infoPy/continuous/kernel.py\u001b[0m in \u001b[0;36mKernelEstimatorEntropy\u001b[0;34m(x, bandwidth, kernel, metric, algorithm)\u001b[0m\n\u001b[1;32m     22\u001b[0m         \u001b[0;31m#####################################################################################################\u001b[0m\u001b[0;34m\u001b[0m\u001b[0;34m\u001b[0m\u001b[0;34m\u001b[0m\u001b[0m\n\u001b[1;32m     23\u001b[0m \u001b[0;34m\u001b[0m\u001b[0m\n\u001b[0;32m---> 24\u001b[0;31m         \u001b[0mprob\u001b[0m  \u001b[0;34m=\u001b[0m \u001b[0mKernelDensityEstimator\u001b[0m\u001b[0;34m(\u001b[0m\u001b[0mx\u001b[0m\u001b[0;34m,\u001b[0m \u001b[0mbandwidth\u001b[0m\u001b[0;34m,\u001b[0m \u001b[0mkernel\u001b[0m\u001b[0;34m,\u001b[0m \u001b[0mmetric\u001b[0m\u001b[0;34m,\u001b[0m \u001b[0malgorithm\u001b[0m\u001b[0;34m)\u001b[0m\u001b[0;34m\u001b[0m\u001b[0;34m\u001b[0m\u001b[0m\n\u001b[0m\u001b[1;32m     25\u001b[0m \u001b[0;34m\u001b[0m\u001b[0m\n\u001b[1;32m     26\u001b[0m         \u001b[0mH\u001b[0m     \u001b[0;34m=\u001b[0m \u001b[0mEntropyFromDataProbabilities\u001b[0m\u001b[0;34m(\u001b[0m\u001b[0mprob\u001b[0m\u001b[0;34m)\u001b[0m\u001b[0;34m\u001b[0m\u001b[0;34m\u001b[0m\u001b[0m\n",
      "\u001b[0;32m~/PythonInformationTheoryModule/infoPy/utils/tools.py\u001b[0m in \u001b[0;36mKernelDensityEstimator\u001b[0;34m(x, bandwidth, kernel, metric, algorithm)\u001b[0m\n\u001b[1;32m     62\u001b[0m         \u001b[0;32melse\u001b[0m\u001b[0;34m:\u001b[0m\u001b[0;34m\u001b[0m\u001b[0;34m\u001b[0m\u001b[0m\n\u001b[1;32m     63\u001b[0m                 \u001b[0mkde\u001b[0m\u001b[0;34m.\u001b[0m\u001b[0mfit\u001b[0m\u001b[0;34m(\u001b[0m\u001b[0mx\u001b[0m\u001b[0;34m)\u001b[0m\u001b[0;34m\u001b[0m\u001b[0;34m\u001b[0m\u001b[0m\n\u001b[0;32m---> 64\u001b[0;31m                 \u001b[0mp\u001b[0m \u001b[0;34m=\u001b[0m \u001b[0mkde\u001b[0m\u001b[0;34m.\u001b[0m\u001b[0mscore_samples\u001b[0m\u001b[0;34m(\u001b[0m\u001b[0mx\u001b[0m\u001b[0;34m)\u001b[0m\u001b[0;34m\u001b[0m\u001b[0;34m\u001b[0m\u001b[0m\n\u001b[0m\u001b[1;32m     65\u001b[0m \u001b[0;34m\u001b[0m\u001b[0m\n\u001b[1;32m     66\u001b[0m         \u001b[0;32mreturn\u001b[0m \u001b[0mnp\u001b[0m\u001b[0;34m.\u001b[0m\u001b[0mexp\u001b[0m\u001b[0;34m(\u001b[0m\u001b[0mp\u001b[0m\u001b[0;34m)\u001b[0m\u001b[0;34m\u001b[0m\u001b[0;34m\u001b[0m\u001b[0m\n",
      "\u001b[0;32m~/.local/lib/python3.6/site-packages/sklearn/neighbors/kde.py\u001b[0m in \u001b[0;36mscore_samples\u001b[0;34m(self, X)\u001b[0m\n\u001b[1;32m    175\u001b[0m         log_density = self.tree_.kernel_density(\n\u001b[1;32m    176\u001b[0m             \u001b[0mX\u001b[0m\u001b[0;34m,\u001b[0m \u001b[0mh\u001b[0m\u001b[0;34m=\u001b[0m\u001b[0mself\u001b[0m\u001b[0;34m.\u001b[0m\u001b[0mbandwidth\u001b[0m\u001b[0;34m,\u001b[0m \u001b[0mkernel\u001b[0m\u001b[0;34m=\u001b[0m\u001b[0mself\u001b[0m\u001b[0;34m.\u001b[0m\u001b[0mkernel\u001b[0m\u001b[0;34m,\u001b[0m \u001b[0matol\u001b[0m\u001b[0;34m=\u001b[0m\u001b[0matol_N\u001b[0m\u001b[0;34m,\u001b[0m\u001b[0;34m\u001b[0m\u001b[0;34m\u001b[0m\u001b[0m\n\u001b[0;32m--> 177\u001b[0;31m             rtol=self.rtol, breadth_first=self.breadth_first, return_log=True)\n\u001b[0m\u001b[1;32m    178\u001b[0m         \u001b[0mlog_density\u001b[0m \u001b[0;34m-=\u001b[0m \u001b[0mnp\u001b[0m\u001b[0;34m.\u001b[0m\u001b[0mlog\u001b[0m\u001b[0;34m(\u001b[0m\u001b[0mN\u001b[0m\u001b[0;34m)\u001b[0m\u001b[0;34m\u001b[0m\u001b[0;34m\u001b[0m\u001b[0m\n\u001b[1;32m    179\u001b[0m         \u001b[0;32mreturn\u001b[0m \u001b[0mlog_density\u001b[0m\u001b[0;34m\u001b[0m\u001b[0;34m\u001b[0m\u001b[0m\n",
      "\u001b[0;31mKeyboardInterrupt\u001b[0m: "
     ]
    }
   ],
   "source": [
    "import random\n",
    "import math\n",
    "covs = np.arange(0, 1, .1)\n",
    "TE=[]\n",
    "TEa=[]\n",
    "for covariance in covs:\n",
    "    print('Cov = '  + str(covariance))\n",
    "    # Generate some random normalised data.\n",
    "    numObservations = 10000\n",
    "    # Source array of random normals:\n",
    "    sourceArray = [random.normalvariate(0,1) for r in range(numObservations)]\n",
    "    # Destination array of random normals with partial correlation to previous value of sourceArray\n",
    "    destArray = [0] + [sum(pair) for pair in zip([covariance*y for y in sourceArray[0:numObservations-1]], \\\n",
    "                                                 [(1-covariance)*y for y in [random.normalvariate(0,1) for r in range(numObservations-1)]] ) ]\n",
    "    # Uncorrelated source array:\n",
    "    sourceArray2 = [random.normalvariate(0,1) for r in range(numObservations)]\n",
    "\n",
    "    corr_expected = covariance / (1 * math.sqrt(covariance**2 + (1-covariance)**2));\n",
    "    TEa.append( -0.5*math.log(1-math.pow(corr_expected,2))/math.log(2) )\n",
    "    TE.append( KernelEstimatorTransferEntropy(sourceArray, destArray, bandwidth = .5, \n",
    "                                              metric='euclidean', lag=0, kernel='tophat') )"
   ]
  },
  {
   "cell_type": "code",
   "execution_count": 83,
   "metadata": {},
   "outputs": [
    {
     "data": {
      "text/plain": [
       "Text(0, 0.5, 'TE [bits]')"
      ]
     },
     "execution_count": 83,
     "metadata": {},
     "output_type": "execute_result"
    },
    {
     "data": {
      "image/png": "[encoded data removed]",
      "text/plain": [
       "<Figure size 432x288 with 1 Axes>"
      ]
     },
     "metadata": {
      "needs_background": "light"
     },
     "output_type": "display_data"
    }
   ],
   "source": [
    "plt.plot(covs, TEa)\n",
    "plt.plot(covs, TE,'o-')\n",
    "plt.xlabel('Covariance')\n",
    "plt.ylabel('TE [bits]')  "
   ]
  },
  {
   "cell_type": "code",
   "execution_count": null,
   "metadata": {},
   "outputs": [],
   "source": []
  }
 ],
 "metadata": {
  "kernelspec": {
   "display_name": "Python 3",
   "language": "python",
   "name": "python3"
  },
  "language_info": {
   "codemirror_mode": {
    "name": "ipython",
    "version": 3
   },
   "file_extension": ".py",
   "mimetype": "text/x-python",
   "name": "python",
   "nbconvert_exporter": "python",
   "pygments_lexer": "ipython3",
   "version": "3.6.8"
  }
 },
 "nbformat": 4,
 "nbformat_minor": 2
}
