{
 "cells": [
  {
   "cell_type": "markdown",
   "metadata": {},
   "source": [
    "## Using InfoPy to reproduce Schreiber's paper examples"
   ]
  },
  {
   "cell_type": "code",
   "execution_count": 1,
   "metadata": {},
   "outputs": [],
   "source": [
    "import numpy             as np \n",
    "import matplotlib.pyplot as plt \n",
    "import pandas            as pd\n",
    "import multiprocessing\n",
    "from   joblib            import Parallel, delayed"
   ]
  },
  {
   "cell_type": "code",
   "execution_count": 2,
   "metadata": {},
   "outputs": [],
   "source": [
    "M         = 100     # Number of elements in the map\n",
    "Transient = 100000  # Transient time\n",
    "T         = 100000  # Simulation time\n",
    "    \n",
    "def tentMap(x_in):\n",
    "    ###############################################################################\n",
    "    # Description: Equations for the ulam map. Return the next value of the map\n",
    "    # given the previous one.\n",
    "    # > Inputs: \n",
    "    # x_in: Input or previous value of the map\n",
    "    # > Outputs:\n",
    "    # Next value of the map.\n",
    "    ###############################################################################\n",
    "    return x_in * 2.0 * (x_in < 0.5) + (2 - 2 * x_in) * (x_in >= 0.5)\n",
    "    \n",
    "def simulateMap(M, Transient, T, coupling = 0.05):\n",
    "    ###############################################################################\n",
    "    # Description: Simulate tent.\n",
    "    # > Inputs:\n",
    "    # f_map: Map function\n",
    "    # coupling: Counpling between the map elements\n",
    "    # M: Number of elements in the map\n",
    "    # Transiente: Transient time\n",
    "    # T: Simulation time\n",
    "    # > Output\n",
    "    # binMapValues: The binary output of each map element\n",
    "    ###############################################################################\n",
    "        \n",
    "    # Initializing map values. For the tent map it's initialized with random uniform values.\n",
    "    values = np.random.rand(M)  \n",
    "\n",
    "    # Run transient\n",
    "    for t in range(1, Transient):\n",
    "        for i in range(len(values)):\n",
    "            if i == 0:\n",
    "                values[i] = tentMap( coupling * values[-1] + (1 - coupling) * values[i])\n",
    "            else:\n",
    "                values[i] = tentMap( coupling * values[i-1] + (1 - coupling) * values[i])\n",
    "\n",
    "\n",
    "    mapValues       = np.zeros([T, M])\n",
    "    mapValues[0, :] = values\n",
    "\n",
    "    # Run the map simulation\n",
    "    for t in range(1, T):\n",
    "        for m in range(0, M):\n",
    "            if m == 0:\n",
    "                mapValues[t, m] = tentMap( coupling * mapValues[t-1, -1] + (1 - coupling) * mapValues[t-1, m] )\n",
    "            else:\n",
    "                mapValues[t, m] = tentMap( coupling * mapValues[t-1, m-1] + (1 - coupling) * mapValues[t-1, m] )\n",
    "\n",
    "    binMapValues = (mapValues >= 0.5).astype(int)\n",
    "    return binMapValues\n",
    "    \n",
    "def simulateMapCouplings(M, Transient, T, couplings = np.arange(0, 0.052, 0.002), n_jobs = 1):\n",
    "    ###############################################################################\n",
    "    # Description: This function allows to run simulateMap in parallel.\n",
    "    # > Inputs:\n",
    "    # f_map: Map function\n",
    "    # M: Number of elements in the map\n",
    "    # Transiente: Transient time\n",
    "    # T: Simulation time\n",
    "    # couplings: A numpy array with coupling values\n",
    "    # n_jobs: Number of jobs to use\n",
    "    # > Output\n",
    "    # binMapValues: The binary output of each map element for each coupling\n",
    "    ###############################################################################\n",
    "    binMapValues = Parallel(n_jobs=n_jobs, backend='loky', max_nbytes=1e6)(\n",
    "            delayed(simulateMap)(M, Transient, T, c) for c in couplings\n",
    "            )\n",
    "    \n",
    "    return np.squeeze(binMapValues)"
   ]
  },
  {
   "cell_type": "code",
   "execution_count": 3,
   "metadata": {},
   "outputs": [],
   "source": [
    "def tentMapTE(couplings = np.arange(0, 0.052, 0.002)):\n",
    "    ###############################################################################\n",
    "    # Description: Returns analytical values of TE for the tent map\n",
    "    # > Inputs:\n",
    "    # couplings: A numpy array with coupling values\n",
    "    # n_jobs: Number of jobs to use\n",
    "    # > Output\n",
    "    # Transfer entropy as a funtion of the coupling for the tent map\n",
    "    ###############################################################################\n",
    "    return (0.77**2)*(couplings**2)/np.log(2)"
   ]
  },
  {
   "cell_type": "code",
   "execution_count": 4,
   "metadata": {},
   "outputs": [],
   "source": [
    "couplings    = np.arange(0, 0.052, 0.002)\n",
    "binMapValues = simulateMapCouplings(M, 100, T, couplings, n_jobs = -1)"
   ]
  },
  {
   "cell_type": "code",
   "execution_count": 5,
   "metadata": {},
   "outputs": [],
   "source": [
    "from infoPy.discrete import BinTransferEntropy"
   ]
  },
  {
   "cell_type": "code",
   "execution_count": 6,
   "metadata": {},
   "outputs": [],
   "source": [
    "def pairTE(binMapValues, M, i):\n",
    "    if i == 0:\n",
    "        return BinTransferEntropy(binMapValues[:,M-1], binMapValues[:,0], lag = 0)\n",
    "    else:\n",
    "        return BinTransferEntropy(binMapValues[:,i-1], binMapValues[:,i], lag = 0)"
   ]
  },
  {
   "cell_type": "code",
   "execution_count": 17,
   "metadata": {},
   "outputs": [],
   "source": [
    "TE = np.zeros([couplings.shape[0], M-1])\n",
    "\n",
    "for i in range( couplings.shape[0] ):\n",
    "    TE[i] = Parallel(n_jobs=-1, backend='loky', max_nbytes=1e6)\n",
    "                    (delayed(pairTE)(binMapValues[i], M, m) for m in range(1, M)\n",
    "                    )"
   ]
  },
  {
   "cell_type": "code",
   "execution_count": 18,
   "metadata": {},
   "outputs": [],
   "source": [
    "TE_tent = tentMapTE(couplings)"
   ]
  },
  {
   "cell_type": "code",
   "execution_count": 26,
   "metadata": {},
   "outputs": [
    {
     "data": {
      "text/plain": [
       "Text(0.5, 0, 'Counpling')"
      ]
     },
     "execution_count": 26,
     "metadata": {},
     "output_type": "execute_result"
    },
    {
     "data": {
      "image/png": "[encoded data removed]",
      "text/plain": [
       "<Figure size 432x288 with 1 Axes>"
      ]
     },
     "metadata": {
      "needs_background": "light"
     },
     "output_type": "display_data"
    }
   ],
   "source": [
    "plt.figure()\n",
    "plt.plot(couplings, TE_tent, 'k--', lw=2)\n",
    "plt.errorbar(couplings, TE.mean(axis=1), TE.std(axis=1) / np.sqrt(M), lw=2)\n",
    "plt.legend(['TE analytical', 'TE estimated'])\n",
    "plt.title('Transfer Entropy for the Tent Map')\n",
    "plt.ylabel('TE [bits]')\n",
    "plt.xlabel('Counpling')"
   ]
  },
  {
   "cell_type": "code",
   "execution_count": null,
   "metadata": {},
   "outputs": [],
   "source": []
  }
 ],
 "metadata": {
  "kernelspec": {
   "display_name": "Python 3",
   "language": "python",
   "name": "python3"
  },
  "language_info": {
   "codemirror_mode": {
    "name": "ipython",
    "version": 3
   },
   "file_extension": ".py",
   "mimetype": "text/x-python",
   "name": "python",
   "nbconvert_exporter": "python",
   "pygments_lexer": "ipython3",
   "version": "3.6.8"
  }
 },
 "nbformat": 4,
 "nbformat_minor": 2
}
